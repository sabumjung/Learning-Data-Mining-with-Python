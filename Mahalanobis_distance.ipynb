{
  "nbformat": 4,
  "nbformat_minor": 0,
  "metadata": {
    "colab": {
      "name": "Mahalanobis_distance.ipynb",
      "provenance": [],
      "authorship_tag": "ABX9TyP+Zl44w/OGB4FOUc0Gynpp",
      "include_colab_link": true
    },
    "kernelspec": {
      "name": "python3",
      "display_name": "Python 3"
    },
    "language_info": {
      "name": "python"
    }
  },
  "cells": [
    {
      "cell_type": "markdown",
      "metadata": {
        "id": "view-in-github",
        "colab_type": "text"
      },
      "source": [
        "<a href=\"https://colab.research.google.com/github/sabumjung/Learning-Data-Mining-with-Python/blob/master/Mahalanobis_distance.ipynb\" target=\"_parent\"><img src=\"https://colab.research.google.com/assets/colab-badge.svg\" alt=\"Open In Colab\"/></a>"
      ]
    },
    {
      "cell_type": "markdown",
      "metadata": {
        "id": "xX1x283S6Nja"
      },
      "source": [
        "# Mahalanobis Distance 계산\n",
        "Mahalonobis 거리는 점과 분포 사이의 거리이다. 그리고 두 지점 사이의 거리를 정의하는 개념은 아니다. 사실상 다변량 변수에 대한 유클리드 거리 계산 방법이라고 할 수 있다.\n",
        "Mahalanobis Distance를 계산하는 방법은 다음과 같다.\n",
        "1. Columns를 상관관계가 없는 변수로 변환한다.\n",
        "2. 해당 Columns를 정규화한다(분산이 1이 되도록).\n",
        "3. 유틀리디안 거리를 계산한다."
      ]
    },
    {
      "cell_type": "markdown",
      "metadata": {
        "id": "cVJKcoaf-8x8"
      },
      "source": [
        "마할라노비스 거리를 계산하는 공식은 다음과 같다.\n",
        "\n",
        "마할라노비스 거리 공식\n",
        "\n",
        "D^2 = (x-m)T * C-1 * (x-m)\n",
        "\n",
        "여기서, \n",
        " - D^2는 마할라노비스 거리의 제곱이다.\n",
        " - x는 관측치의 벡터이다(데이터 집합의 행). \n",
        " - m은 독립 변수(각 열의 평균)의 평균값 벡터이다. \n",
        " - C^(-1)은 독립 변수의 역 공분산 행렬이다. \n",
        "\n",
        "위의 공식을 어떻게 이해해야 할까요?\n",
        "\n",
        "(x – m)^T. C^(-1) 항을 살표보도록 하지요.\n",
        "\n",
        "(x – m)는 본질적으로 평균으로부터의 벡터 거리이다.\n",
        "다음 이를 공분산 행렬(또는 공분산 행렬의 역행렬로 곱하기)로 나누기를 실행한다.\n",
        "\n",
        "생각해 보면, 이는 본질적으로 정규 표준화(z = (x - mu)/다변량)에 해당하는 값이다.\n",
        "즉, z = ((x 벡터) – (평균 벡터)) / (공분산 행렬) 이 된다.\n",
        "\n",
        "그렇다면 공분산으로 나누면 어떤 효과가 있을까?\n",
        "\n",
        "데이터 집합의 변수가 강하게 상관되어 있으면 공분산 값이 크다. \n",
        "큰 공분산으로 나누면 거리가 줄어드는 효과를 얻게된다.\n",
        "\n",
        "마찬가지로 X가 상관 관계가 없으면 공분산 값이 크지 않게 된다.\n",
        "따라서 Mahalanobis distance가 크게 줄어들지 않는다."
      ]
    },
    {
      "cell_type": "code",
      "metadata": {
        "id": "3nbNxZhmy8Xc"
      },
      "source": [
        "import pandas as pd\n",
        "import scipy as sp\n",
        "import numpy as np"
      ],
      "execution_count": 23,
      "outputs": []
    },
    {
      "cell_type": "code",
      "metadata": {
        "id": "apE5sWw2zHZj"
      },
      "source": [
        "filepath='https://raw.githubusercontent.com/selva86/datasets/master/diamonds.csv'"
      ],
      "execution_count": 24,
      "outputs": []
    },
    {
      "cell_type": "code",
      "metadata": {
        "id": "7UpJw7zzzNm5"
      },
      "source": [
        "df=pd.read_csv(filepath).iloc[:,[0, 4,6]]"
      ],
      "execution_count": 25,
      "outputs": []
    },
    {
      "cell_type": "code",
      "metadata": {
        "colab": {
          "base_uri": "https://localhost:8080/",
          "height": 204
        },
        "id": "E5Tu9jcWzS76",
        "outputId": "7347b785-c12e-4487-9caa-bfe1d9efb0dc"
      },
      "source": [
        "df.head()"
      ],
      "execution_count": 26,
      "outputs": [
        {
          "output_type": "execute_result",
          "data": {
            "text/html": [
              "<div>\n",
              "<style scoped>\n",
              "    .dataframe tbody tr th:only-of-type {\n",
              "        vertical-align: middle;\n",
              "    }\n",
              "\n",
              "    .dataframe tbody tr th {\n",
              "        vertical-align: top;\n",
              "    }\n",
              "\n",
              "    .dataframe thead th {\n",
              "        text-align: right;\n",
              "    }\n",
              "</style>\n",
              "<table border=\"1\" class=\"dataframe\">\n",
              "  <thead>\n",
              "    <tr style=\"text-align: right;\">\n",
              "      <th></th>\n",
              "      <th>carat</th>\n",
              "      <th>depth</th>\n",
              "      <th>price</th>\n",
              "    </tr>\n",
              "  </thead>\n",
              "  <tbody>\n",
              "    <tr>\n",
              "      <th>0</th>\n",
              "      <td>0.23</td>\n",
              "      <td>61.5</td>\n",
              "      <td>326</td>\n",
              "    </tr>\n",
              "    <tr>\n",
              "      <th>1</th>\n",
              "      <td>0.21</td>\n",
              "      <td>59.8</td>\n",
              "      <td>326</td>\n",
              "    </tr>\n",
              "    <tr>\n",
              "      <th>2</th>\n",
              "      <td>0.23</td>\n",
              "      <td>56.9</td>\n",
              "      <td>327</td>\n",
              "    </tr>\n",
              "    <tr>\n",
              "      <th>3</th>\n",
              "      <td>0.29</td>\n",
              "      <td>62.4</td>\n",
              "      <td>334</td>\n",
              "    </tr>\n",
              "    <tr>\n",
              "      <th>4</th>\n",
              "      <td>0.31</td>\n",
              "      <td>63.3</td>\n",
              "      <td>335</td>\n",
              "    </tr>\n",
              "  </tbody>\n",
              "</table>\n",
              "</div>"
            ],
            "text/plain": [
              "   carat  depth  price\n",
              "0   0.23   61.5    326\n",
              "1   0.21   59.8    326\n",
              "2   0.23   56.9    327\n",
              "3   0.29   62.4    334\n",
              "4   0.31   63.3    335"
            ]
          },
          "metadata": {
            "tags": []
          },
          "execution_count": 26
        }
      ]
    },
    {
      "cell_type": "code",
      "metadata": {
        "id": "KlSXMIn3zToi"
      },
      "source": [
        "def mahalanobis(x=None, data=None, cov=None):\n",
        "  x_minus_mu = x-np.mean(data)\n",
        "  if not cov:\n",
        "    cov=np.cov(data.values.T)\n",
        "  inv_covmat =np.linalg.inv(cov)\n",
        "  left_term = np.dot(x_minus_mu, inv_covmat)\n",
        "  mahal = np.dot(left_term, x_minus_mu.T)\n",
        "  return mahal.diagonal()"
      ],
      "execution_count": 27,
      "outputs": []
    },
    {
      "cell_type": "code",
      "metadata": {
        "id": "JA0qnI4L0Fgn"
      },
      "source": [
        "df_x = df[['carat', 'depth', 'price']].head(500)"
      ],
      "execution_count": 28,
      "outputs": []
    },
    {
      "cell_type": "code",
      "metadata": {
        "id": "XTXrsWtl0K4K"
      },
      "source": [
        "df_x['mahala'] = mahalanobis(x = df_x, data = df[['carat', 'depth', 'price']])"
      ],
      "execution_count": 29,
      "outputs": []
    },
    {
      "cell_type": "code",
      "metadata": {
        "colab": {
          "base_uri": "https://localhost:8080/",
          "height": 204
        },
        "id": "00fJ4qSX0Xcj",
        "outputId": "ddbcc971-289f-4362-febd-0a539d7701e7"
      },
      "source": [
        "df_x.head()"
      ],
      "execution_count": 30,
      "outputs": [
        {
          "output_type": "execute_result",
          "data": {
            "text/html": [
              "<div>\n",
              "<style scoped>\n",
              "    .dataframe tbody tr th:only-of-type {\n",
              "        vertical-align: middle;\n",
              "    }\n",
              "\n",
              "    .dataframe tbody tr th {\n",
              "        vertical-align: top;\n",
              "    }\n",
              "\n",
              "    .dataframe thead th {\n",
              "        text-align: right;\n",
              "    }\n",
              "</style>\n",
              "<table border=\"1\" class=\"dataframe\">\n",
              "  <thead>\n",
              "    <tr style=\"text-align: right;\">\n",
              "      <th></th>\n",
              "      <th>carat</th>\n",
              "      <th>depth</th>\n",
              "      <th>price</th>\n",
              "      <th>mahala</th>\n",
              "    </tr>\n",
              "  </thead>\n",
              "  <tbody>\n",
              "    <tr>\n",
              "      <th>0</th>\n",
              "      <td>0.23</td>\n",
              "      <td>61.5</td>\n",
              "      <td>326</td>\n",
              "      <td>1.709860</td>\n",
              "    </tr>\n",
              "    <tr>\n",
              "      <th>1</th>\n",
              "      <td>0.21</td>\n",
              "      <td>59.8</td>\n",
              "      <td>326</td>\n",
              "      <td>3.540097</td>\n",
              "    </tr>\n",
              "    <tr>\n",
              "      <th>2</th>\n",
              "      <td>0.23</td>\n",
              "      <td>56.9</td>\n",
              "      <td>327</td>\n",
              "      <td>12.715021</td>\n",
              "    </tr>\n",
              "    <tr>\n",
              "      <th>3</th>\n",
              "      <td>0.29</td>\n",
              "      <td>62.4</td>\n",
              "      <td>334</td>\n",
              "      <td>1.454469</td>\n",
              "    </tr>\n",
              "    <tr>\n",
              "      <th>4</th>\n",
              "      <td>0.31</td>\n",
              "      <td>63.3</td>\n",
              "      <td>335</td>\n",
              "      <td>2.347239</td>\n",
              "    </tr>\n",
              "  </tbody>\n",
              "</table>\n",
              "</div>"
            ],
            "text/plain": [
              "   carat  depth  price     mahala\n",
              "0   0.23   61.5    326   1.709860\n",
              "1   0.21   59.8    326   3.540097\n",
              "2   0.23   56.9    327  12.715021\n",
              "3   0.29   62.4    334   1.454469\n",
              "4   0.31   63.3    335   2.347239"
            ]
          },
          "metadata": {
            "tags": []
          },
          "execution_count": 30
        }
      ]
    },
    {
      "cell_type": "code",
      "metadata": {
        "colab": {
          "base_uri": "https://localhost:8080/"
        },
        "id": "I9HSagSn2hMa",
        "outputId": "8f702dec-9766-42c5-91ba-c2ca4e686449"
      },
      "source": [
        "np.mean(df)"
      ],
      "execution_count": 37,
      "outputs": [
        {
          "output_type": "execute_result",
          "data": {
            "text/plain": [
              "carat       0.797940\n",
              "depth      61.749405\n",
              "price    3932.799722\n",
              "dtype: float64"
            ]
          },
          "metadata": {
            "tags": []
          },
          "execution_count": 37
        }
      ]
    },
    {
      "cell_type": "code",
      "metadata": {
        "colab": {
          "base_uri": "https://localhost:8080/"
        },
        "id": "xZQQZoo2AYuE",
        "outputId": "13e6c83d-4b17-4999-dbca-1964360229bd"
      },
      "source": [
        "np.var(df)"
      ],
      "execution_count": 38,
      "outputs": [
        {
          "output_type": "execute_result",
          "data": {
            "text/plain": [
              "carat    2.246825e-01\n",
              "depth    2.052366e+00\n",
              "price    1.591533e+07\n",
              "dtype: float64"
            ]
          },
          "metadata": {
            "tags": []
          },
          "execution_count": 38
        }
      ]
    },
    {
      "cell_type": "markdown",
      "metadata": {
        "id": "EzWQ2JJGB0fA"
      },
      "source": [
        "# Mahalanobis Distance를 이용하여 Outlier를 detection하는 방법\n",
        "자유도 n을 갖는 chi-square 분포를 따른다고 가정할 경우, 0.01 유의수준과 자유도 2에서는 하기와 같이 critical value를 계산할 수 있다.\n"
      ]
    },
    {
      "cell_type": "code",
      "metadata": {
        "id": "pYB4jhAjA6Tc"
      },
      "source": [
        "# Critical values for two degrees of freedom\n",
        "from scipy.stats import chi2"
      ],
      "execution_count": 39,
      "outputs": []
    },
    {
      "cell_type": "markdown",
      "metadata": {
        "id": "uQuq4TlTCY9n"
      },
      "source": [
        "### 분석 결과 Mahanobis Distance가 9.21을 초과하는 경우 이상치로 검토할 수 있음을 의미한다."
      ]
    },
    {
      "cell_type": "code",
      "metadata": {
        "colab": {
          "base_uri": "https://localhost:8080/"
        },
        "id": "O6DPB2U3BfR8",
        "outputId": "d23c0ebc-1134-40a0-cafa-f3559f9e1442"
      },
      "source": [
        "chi2.ppf((1-0.01), df=2)"
      ],
      "execution_count": 40,
      "outputs": [
        {
          "output_type": "execute_result",
          "data": {
            "text/plain": [
              "9.21034037197618"
            ]
          },
          "metadata": {
            "tags": []
          },
          "execution_count": 40
        }
      ]
    },
    {
      "cell_type": "markdown",
      "metadata": {
        "id": "DctI26jIClVF"
      },
      "source": [
        "### 유의수준 0.01하에서 outlier에 해당 하는 값을 선정하면 다음과 같다."
      ]
    },
    {
      "cell_type": "code",
      "metadata": {
        "colab": {
          "base_uri": "https://localhost:8080/",
          "height": 359
        },
        "id": "9WKaSw_tBich",
        "outputId": "c0534b75-4935-404e-9701-86af6520e6aa"
      },
      "source": [
        "df_x['p_value'] = 1 - chi2.cdf(df_x['mahala'], 2)\n",
        "df_x.loc[df_x.p_value < 0.01].head(10)"
      ],
      "execution_count": 41,
      "outputs": [
        {
          "output_type": "execute_result",
          "data": {
            "text/html": [
              "<div>\n",
              "<style scoped>\n",
              "    .dataframe tbody tr th:only-of-type {\n",
              "        vertical-align: middle;\n",
              "    }\n",
              "\n",
              "    .dataframe tbody tr th {\n",
              "        vertical-align: top;\n",
              "    }\n",
              "\n",
              "    .dataframe thead th {\n",
              "        text-align: right;\n",
              "    }\n",
              "</style>\n",
              "<table border=\"1\" class=\"dataframe\">\n",
              "  <thead>\n",
              "    <tr style=\"text-align: right;\">\n",
              "      <th></th>\n",
              "      <th>carat</th>\n",
              "      <th>depth</th>\n",
              "      <th>price</th>\n",
              "      <th>mahala</th>\n",
              "      <th>p_value</th>\n",
              "    </tr>\n",
              "  </thead>\n",
              "  <tbody>\n",
              "    <tr>\n",
              "      <th>2</th>\n",
              "      <td>0.23</td>\n",
              "      <td>56.9</td>\n",
              "      <td>327</td>\n",
              "      <td>12.715021</td>\n",
              "      <td>0.001734</td>\n",
              "    </tr>\n",
              "    <tr>\n",
              "      <th>91</th>\n",
              "      <td>0.86</td>\n",
              "      <td>55.1</td>\n",
              "      <td>2757</td>\n",
              "      <td>23.909643</td>\n",
              "      <td>0.000006</td>\n",
              "    </tr>\n",
              "    <tr>\n",
              "      <th>97</th>\n",
              "      <td>0.96</td>\n",
              "      <td>66.3</td>\n",
              "      <td>2759</td>\n",
              "      <td>11.781773</td>\n",
              "      <td>0.002765</td>\n",
              "    </tr>\n",
              "    <tr>\n",
              "      <th>172</th>\n",
              "      <td>1.17</td>\n",
              "      <td>60.2</td>\n",
              "      <td>2774</td>\n",
              "      <td>9.279459</td>\n",
              "      <td>0.009660</td>\n",
              "    </tr>\n",
              "    <tr>\n",
              "      <th>204</th>\n",
              "      <td>0.98</td>\n",
              "      <td>67.9</td>\n",
              "      <td>2777</td>\n",
              "      <td>20.086616</td>\n",
              "      <td>0.000043</td>\n",
              "    </tr>\n",
              "    <tr>\n",
              "      <th>221</th>\n",
              "      <td>0.70</td>\n",
              "      <td>57.2</td>\n",
              "      <td>2782</td>\n",
              "      <td>10.405659</td>\n",
              "      <td>0.005501</td>\n",
              "    </tr>\n",
              "    <tr>\n",
              "      <th>227</th>\n",
              "      <td>0.84</td>\n",
              "      <td>55.1</td>\n",
              "      <td>2782</td>\n",
              "      <td>23.548379</td>\n",
              "      <td>0.000008</td>\n",
              "    </tr>\n",
              "    <tr>\n",
              "      <th>255</th>\n",
              "      <td>1.05</td>\n",
              "      <td>65.8</td>\n",
              "      <td>2789</td>\n",
              "      <td>11.237146</td>\n",
              "      <td>0.003630</td>\n",
              "    </tr>\n",
              "    <tr>\n",
              "      <th>284</th>\n",
              "      <td>1.00</td>\n",
              "      <td>58.2</td>\n",
              "      <td>2795</td>\n",
              "      <td>10.349019</td>\n",
              "      <td>0.005659</td>\n",
              "    </tr>\n",
              "    <tr>\n",
              "      <th>298</th>\n",
              "      <td>1.01</td>\n",
              "      <td>67.4</td>\n",
              "      <td>2797</td>\n",
              "      <td>17.716144</td>\n",
              "      <td>0.000142</td>\n",
              "    </tr>\n",
              "  </tbody>\n",
              "</table>\n",
              "</div>"
            ],
            "text/plain": [
              "     carat  depth  price     mahala   p_value\n",
              "2     0.23   56.9    327  12.715021  0.001734\n",
              "91    0.86   55.1   2757  23.909643  0.000006\n",
              "97    0.96   66.3   2759  11.781773  0.002765\n",
              "172   1.17   60.2   2774   9.279459  0.009660\n",
              "204   0.98   67.9   2777  20.086616  0.000043\n",
              "221   0.70   57.2   2782  10.405659  0.005501\n",
              "227   0.84   55.1   2782  23.548379  0.000008\n",
              "255   1.05   65.8   2789  11.237146  0.003630\n",
              "284   1.00   58.2   2795  10.349019  0.005659\n",
              "298   1.01   67.4   2797  17.716144  0.000142"
            ]
          },
          "metadata": {
            "tags": []
          },
          "execution_count": 41
        }
      ]
    },
    {
      "cell_type": "code",
      "metadata": {
        "id": "KnIB00idBt6W"
      },
      "source": [
        ""
      ],
      "execution_count": null,
      "outputs": []
    }
  ]
}