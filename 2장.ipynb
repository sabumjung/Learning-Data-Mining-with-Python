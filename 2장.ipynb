{
  "nbformat": 4,
  "nbformat_minor": 0,
  "metadata": {
    "colab": {
      "name": "2장.ipynb",
      "version": "0.3.2",
      "provenance": [],
      "collapsed_sections": [],
      "include_colab_link": true
    },
    "kernelspec": {
      "name": "python2",
      "display_name": "Python 2"
    }
  },
  "cells": [
    {
      "cell_type": "markdown",
      "metadata": {
        "id": "view-in-github",
        "colab_type": "text"
      },
      "source": [
        "[View in Colaboratory](https://colab.research.google.com/github/sabumjung/Tensorflow/blob/Learning-Data-Mining-with-Python/2%EC%9E%A5.ipynb)"
      ]
    },
    {
      "metadata": {
        "id": "YpJnMRkn85gy",
        "colab_type": "code",
        "colab": {
          "base_uri": "https://localhost:8080/",
          "height": 35
        },
        "outputId": "7a55358e-7f96-4afb-d367-3f71168bf3b9"
      },
      "cell_type": "code",
      "source": [
        "import tensorflow as tf\n",
        "print(tf.__version__)"
      ],
      "execution_count": 1,
      "outputs": [
        {
          "output_type": "stream",
          "text": [
            "1.10.0\n"
          ],
          "name": "stdout"
        }
      ]
    },
    {
      "metadata": {
        "id": "c-Wer3u59Upp",
        "colab_type": "code",
        "colab": {
          "base_uri": "https://localhost:8080/",
          "height": 35
        },
        "outputId": "eb39d554-7946-4d5e-a5a5-3c537437c537"
      },
      "cell_type": "code",
      "source": [
        "import tensorflow as tf\n",
        "with tf.Session() as session:\n",
        "    x = tf.placeholder(tf.float32,[1],name=\"x\")\n",
        "    y = tf.placeholder(tf.float32,[1],name=\"y\")\n",
        "    z = tf.constant(2.0)\n",
        "    y = x * z\n",
        "    x_in = [100]\n",
        "    y_output = session.run(y,{x:x_in})\n",
        "    print(y_output)"
      ],
      "execution_count": 3,
      "outputs": [
        {
          "output_type": "stream",
          "text": [
            "[200.]\n"
          ],
          "name": "stdout"
        }
      ]
    },
    {
      "metadata": {
        "id": "zbWuBmwL9w2A",
        "colab_type": "code",
        "colab": {
          "base_uri": "https://localhost:8080/",
          "height": 89
        },
        "outputId": "c2f8c365-29b2-4e94-eda5-6914d241d277"
      },
      "cell_type": "code",
      "source": [
        "import tensorflow as tf\n",
        "\n",
        "scalar = tf.constant(100)\n",
        "vector = tf.constant([1,2,3,4,5])\n",
        "matrix = tf.constant([[1,2,3],[4,5,6]])\n",
        "cube_matrix = tf.constant([[[1],[2],[3]],[[4],[5],[6]],[[7],[8],[9]]])\n",
        "\n",
        "\n",
        "print(scalar.get_shape())\n",
        "print(vector.get_shape())\n",
        "print(matrix.get_shape())\n",
        "print(cube_matrix.get_shape())"
      ],
      "execution_count": 4,
      "outputs": [
        {
          "output_type": "stream",
          "text": [
            "()\n",
            "(5,)\n",
            "(2, 3)\n",
            "(3, 3, 1)\n"
          ],
          "name": "stdout"
        }
      ]
    },
    {
      "metadata": {
        "id": "BqggYRjs-RLa",
        "colab_type": "code",
        "colab": {
          "base_uri": "https://localhost:8080/",
          "height": 53
        },
        "outputId": "76e47bf5-185c-43a7-cbcf-6963cf5385ff"
      },
      "cell_type": "code",
      "source": [
        "import tensorflow as tf\n",
        "import numpy as np\n",
        "\n",
        "#tensore 1d con valori costanti\n",
        "tensor_1d = np.array([1,2,3,4,5,6,7,8,9,10])\n",
        "tensor_1d = tf.constant(tensor_1d)\n",
        "with tf.Session() as sess:\n",
        "    print (tensor_1d.get_shape())\n",
        "    print sess.run(tensor_1d)"
      ],
      "execution_count": 6,
      "outputs": [
        {
          "output_type": "stream",
          "text": [
            "(10,)\n",
            "[ 1  2  3  4  5  6  7  8  9 10]\n"
          ],
          "name": "stdout"
        }
      ]
    },
    {
      "metadata": {
        "id": "CRzxYKTn_KZQ",
        "colab_type": "code",
        "colab": {
          "base_uri": "https://localhost:8080/",
          "height": 89
        },
        "outputId": "46c4cb06-a32f-464a-9487-9035cb55aed9"
      },
      "cell_type": "code",
      "source": [
        "import tensorflow as tf\n",
        "import numpy as np\n",
        "\n",
        "#tensore 2d con valori variabili\n",
        "tensor_2d = np.array([(1,2,3),(4,5,6),(7,8,9)])\n",
        "tensor_2d = tf.Variable(tensor_2d)\n",
        "with tf.Session() as sess:\n",
        "    sess.run(tf.global_variables_initializer())\n",
        "    print (tensor_2d.get_shape())\n",
        "    print sess.run(tensor_2d)"
      ],
      "execution_count": 7,
      "outputs": [
        {
          "output_type": "stream",
          "text": [
            "(3, 3)\n",
            "[[1 2 3]\n",
            " [4 5 6]\n",
            " [7 8 9]]\n"
          ],
          "name": "stdout"
        }
      ]
    },
    {
      "metadata": {
        "id": "Q9NTx9kE_bjy",
        "colab_type": "code",
        "colab": {
          "base_uri": "https://localhost:8080/",
          "height": 35
        },
        "outputId": "497d69bc-6a48-4202-dac0-267396462953"
      },
      "cell_type": "code",
      "source": [
        "import tensorflow as tf\n",
        "import numpy as np\n",
        "\n",
        "interactive_session = tf.InteractiveSession()\n",
        "tensor = np.array([1, 2, 3, 4, 5])\n",
        "tensor = tf.constant(tensor)\n",
        "print(tensor.eval())\n",
        "interactive_session.close()"
      ],
      "execution_count": 8,
      "outputs": [
        {
          "output_type": "stream",
          "text": [
            "[1 2 3 4 5]\n"
          ],
          "name": "stdout"
        }
      ]
    },
    {
      "metadata": {
        "id": "XyQkan-G_oKg",
        "colab_type": "code",
        "colab": {
          "base_uri": "https://localhost:8080/",
          "height": 233
        },
        "outputId": "1285f576-353e-44c0-8f70-3498711b646c"
      },
      "cell_type": "code",
      "source": [
        "import tensorflow as tf\n",
        "import numpy as np\n",
        "tensor_3d = np.array([[[ 0,  1,  2],[ 3,  4,  5],[ 6,  7,  8]],\n",
        "                      [[ 9, 10, 11],[12, 13, 14],[15, 16, 17]],\n",
        "                      [[18, 19, 20],[21, 22, 23],[24, 25, 26]]])\n",
        "\n",
        "tensor_3d = tf.convert_to_tensor(tensor_3d, dtype=tf.float64)\n",
        "with tf.Session() as sess:\n",
        "    print (tensor_3d.get_shape())\n",
        "    print sess.run(tensor_3d)"
      ],
      "execution_count": 9,
      "outputs": [
        {
          "output_type": "stream",
          "text": [
            "(3, 3, 3)\n",
            "[[[ 0.  1.  2.]\n",
            "  [ 3.  4.  5.]\n",
            "  [ 6.  7.  8.]]\n",
            "\n",
            " [[ 9. 10. 11.]\n",
            "  [12. 13. 14.]\n",
            "  [15. 16. 17.]]\n",
            "\n",
            " [[18. 19. 20.]\n",
            "  [21. 22. 23.]\n",
            "  [24. 25. 26.]]]\n"
          ],
          "name": "stdout"
        }
      ]
    },
    {
      "metadata": {
        "id": "ZSJw1l2nAi-_",
        "colab_type": "code",
        "colab": {
          "base_uri": "https://localhost:8080/",
          "height": 215
        },
        "outputId": "3e597767-b84c-4792-a09f-5e54cc37fee3"
      },
      "cell_type": "code",
      "source": [
        "import tensorflow as tf\n",
        "\n",
        "value = tf.Variable(0, name=\"value\")\n",
        "one = tf.constant(1)\n",
        "new_value = tf.add(value,one)\n",
        "update_value=tf.assign(value,new_value)\n",
        "\n",
        "initialize_var = tf.global_variables_initializer()\n",
        "\n",
        "with tf.Session() as sess:\n",
        "    sess.run(initialize_var)\n",
        "    print(sess.run(value))\n",
        "    for _ in range(10):\n",
        "        sess.run(update_value)\n",
        "        print(sess.run(value))"
      ],
      "execution_count": 18,
      "outputs": [
        {
          "output_type": "stream",
          "text": [
            "0\n",
            "1\n",
            "2\n",
            "3\n",
            "4\n",
            "5\n",
            "6\n",
            "7\n",
            "8\n",
            "9\n",
            "10\n"
          ],
          "name": "stdout"
        }
      ]
    },
    {
      "metadata": {
        "id": "QiFYK4S5AqP_",
        "colab_type": "code",
        "colab": {
          "base_uri": "https://localhost:8080/",
          "height": 35
        },
        "outputId": "35bc3502-c040-4db5-d75c-0a2d0b8df858"
      },
      "cell_type": "code",
      "source": [
        "import tensorflow as tf\n",
        "\n",
        "constant_A = tf.constant([100.0])\n",
        "constant_B = tf.constant([300.0])\n",
        "constant_C = tf.constant([3.0])\n",
        "\n",
        "sum_ = tf.add(constant_A, constant_B)\n",
        "mul_ = tf.multiply(constant_A, constant_C)\n",
        "\n",
        "with tf.Session() as sess:\n",
        "  result = sess.run([sum_, mul_])\n",
        "  print(result)"
      ],
      "execution_count": 19,
      "outputs": [
        {
          "output_type": "stream",
          "text": [
            "[array([400.], dtype=float32), array([300.], dtype=float32)]\n"
          ],
          "name": "stdout"
        }
      ]
    },
    {
      "metadata": {
        "id": "ie0Cfh3aCdl6",
        "colab_type": "code",
        "colab": {
          "base_uri": "https://localhost:8080/",
          "height": 71
        },
        "outputId": "b4f98b74-b790-4c5c-a5db-235a2ad5ac3f"
      },
      "cell_type": "code",
      "source": [
        "import tensorflow as tf\n",
        "import numpy as np\n",
        "\n",
        "a = 3\n",
        "b = 2\n",
        "\n",
        "x = tf.placeholder(tf.float32, shape=(a, b))\n",
        "y = tf.add(x, x)\n",
        "\n",
        "data = np.random.rand(a, b)\n",
        "sess = tf.Session()\n",
        "print(sess.run(y,feed_dict={x: data}))"
      ],
      "execution_count": 20,
      "outputs": [
        {
          "output_type": "stream",
          "text": [
            "[[1.7597444  1.368224  ]\n",
            " [0.56452113 0.74353635]\n",
            " [0.53508675 1.0511423 ]]\n"
          ],
          "name": "stdout"
        }
      ]
    },
    {
      "metadata": {
        "id": "EtPoLAAQKfG_",
        "colab_type": "code",
        "colab": {}
      },
      "cell_type": "code",
      "source": [
        "import tensorflow as tf\n",
        "\n",
        "weight = tf.Variable(1.0, name=\"weight\")\n",
        "input_value = tf.constant(0.5, name=\"input_value\")\n",
        "expected_output = tf.constant(0.0, name=\"expected_output\")\n",
        "model = tf.multiply(input_value,weight, \"model\")\n",
        "loss_function = tf.pow(expected_output - model, 2, name=\"loss_function\")\n",
        "\n",
        "optimizer = tf.train.GradientDescentOptimizer(0.025).minimize(loss_function)\n",
        "\n",
        "for value in [input_value, weight, expected_output, model, loss_function]:\n",
        "\ttf.summary.scalar(value.op.name, value)\n",
        "\n",
        "summaries = tf.summary.merge_all()\n",
        "sess = tf.Session()\n",
        "\n",
        "summary_writer = tf.summary.FileWriter('log_simple_stats', sess.graph)\n",
        "\n",
        "sess.run(tf.global_variables_initializer())\n",
        "\n",
        "for i in range(100):\n",
        "\tsummary_writer.add_summary(sess.run(summaries), i)\n",
        "\tsess.run(optimizer)"
      ],
      "execution_count": 0,
      "outputs": []
    }
  ]
}